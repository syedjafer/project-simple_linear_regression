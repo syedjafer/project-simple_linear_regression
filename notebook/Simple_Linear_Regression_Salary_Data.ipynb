{
  "nbformat": 4,
  "nbformat_minor": 0,
  "metadata": {
    "colab": {
      "name": "Simple Linear Regression: Salary Data.ipynb",
      "provenance": [],
      "collapsed_sections": []
    },
    "kernelspec": {
      "name": "python3",
      "display_name": "Python 3"
    },
    "language_info": {
      "name": "python"
    }
  },
  "cells": [
    {
      "cell_type": "markdown",
      "source": [
        "Project Name : Simple Linear Regression\n",
        "\n",
        "Study Link : https://learnml.hashnode.dev/linear-regression-with-gradient-descent-scratch"
      ],
      "metadata": {
        "id": "it4Uwe68aW6k"
      }
    },
    {
      "cell_type": "markdown",
      "source": [
        "## Imports"
      ],
      "metadata": {
        "id": "wGvbB4V0C3wt"
      }
    },
    {
      "cell_type": "code",
      "execution_count": 1,
      "metadata": {
        "id": "LzL4MLJezsd9"
      },
      "outputs": [],
      "source": [
        "import numpy as np \n",
        "import pandas as pd\n",
        "import matplotlib.pyplot as plt\n",
        "import seaborn as sns\n",
        "from matplotlib import rcParams\n",
        "plt.style.use('fivethirtyeight')\n",
        "rcParams['figure.figsize'] = 11.7,5.27"
      ]
    },
    {
      "cell_type": "markdown",
      "source": [
        "## Collecting Dataset"
      ],
      "metadata": {
        "id": "Y5DTB1VoOX9I"
      }
    },
    {
      "cell_type": "code",
      "source": [
        "df=pd.read_csv('https://raw.githubusercontent.com/syedjafer/project-simple_linear_regression/main/data/Salary_Data.csv')\n",
        "#view the first 5 rows of dataset\n",
        "df.head()"
      ],
      "metadata": {
        "colab": {
          "base_uri": "https://localhost:8080/",
          "height": 204
        },
        "id": "KFcRe8o7OfXM",
        "outputId": "05e8cdd2-8c0f-4ac5-f86a-032142715098"
      },
      "execution_count": 2,
      "outputs": [
        {
          "output_type": "execute_result",
          "data": {
            "text/html": [
              "\n",
              "  <div id=\"df-ab0df4cd-81c2-4b6d-9b41-3a25bdab8cdc\">\n",
              "    <div class=\"colab-df-container\">\n",
              "      <div>\n",
              "<style scoped>\n",
              "    .dataframe tbody tr th:only-of-type {\n",
              "        vertical-align: middle;\n",
              "    }\n",
              "\n",
              "    .dataframe tbody tr th {\n",
              "        vertical-align: top;\n",
              "    }\n",
              "\n",
              "    .dataframe thead th {\n",
              "        text-align: right;\n",
              "    }\n",
              "</style>\n",
              "<table border=\"1\" class=\"dataframe\">\n",
              "  <thead>\n",
              "    <tr style=\"text-align: right;\">\n",
              "      <th></th>\n",
              "      <th>YearsExperience</th>\n",
              "      <th>Salary</th>\n",
              "    </tr>\n",
              "  </thead>\n",
              "  <tbody>\n",
              "    <tr>\n",
              "      <th>0</th>\n",
              "      <td>1.1</td>\n",
              "      <td>39343.0</td>\n",
              "    </tr>\n",
              "    <tr>\n",
              "      <th>1</th>\n",
              "      <td>1.3</td>\n",
              "      <td>46205.0</td>\n",
              "    </tr>\n",
              "    <tr>\n",
              "      <th>2</th>\n",
              "      <td>1.5</td>\n",
              "      <td>37731.0</td>\n",
              "    </tr>\n",
              "    <tr>\n",
              "      <th>3</th>\n",
              "      <td>2.0</td>\n",
              "      <td>43525.0</td>\n",
              "    </tr>\n",
              "    <tr>\n",
              "      <th>4</th>\n",
              "      <td>2.2</td>\n",
              "      <td>39891.0</td>\n",
              "    </tr>\n",
              "  </tbody>\n",
              "</table>\n",
              "</div>\n",
              "      <button class=\"colab-df-convert\" onclick=\"convertToInteractive('df-ab0df4cd-81c2-4b6d-9b41-3a25bdab8cdc')\"\n",
              "              title=\"Convert this dataframe to an interactive table.\"\n",
              "              style=\"display:none;\">\n",
              "        \n",
              "  <svg xmlns=\"http://www.w3.org/2000/svg\" height=\"24px\"viewBox=\"0 0 24 24\"\n",
              "       width=\"24px\">\n",
              "    <path d=\"M0 0h24v24H0V0z\" fill=\"none\"/>\n",
              "    <path d=\"M18.56 5.44l.94 2.06.94-2.06 2.06-.94-2.06-.94-.94-2.06-.94 2.06-2.06.94zm-11 1L8.5 8.5l.94-2.06 2.06-.94-2.06-.94L8.5 2.5l-.94 2.06-2.06.94zm10 10l.94 2.06.94-2.06 2.06-.94-2.06-.94-.94-2.06-.94 2.06-2.06.94z\"/><path d=\"M17.41 7.96l-1.37-1.37c-.4-.4-.92-.59-1.43-.59-.52 0-1.04.2-1.43.59L10.3 9.45l-7.72 7.72c-.78.78-.78 2.05 0 2.83L4 21.41c.39.39.9.59 1.41.59.51 0 1.02-.2 1.41-.59l7.78-7.78 2.81-2.81c.8-.78.8-2.07 0-2.86zM5.41 20L4 18.59l7.72-7.72 1.47 1.35L5.41 20z\"/>\n",
              "  </svg>\n",
              "      </button>\n",
              "      \n",
              "  <style>\n",
              "    .colab-df-container {\n",
              "      display:flex;\n",
              "      flex-wrap:wrap;\n",
              "      gap: 12px;\n",
              "    }\n",
              "\n",
              "    .colab-df-convert {\n",
              "      background-color: #E8F0FE;\n",
              "      border: none;\n",
              "      border-radius: 50%;\n",
              "      cursor: pointer;\n",
              "      display: none;\n",
              "      fill: #1967D2;\n",
              "      height: 32px;\n",
              "      padding: 0 0 0 0;\n",
              "      width: 32px;\n",
              "    }\n",
              "\n",
              "    .colab-df-convert:hover {\n",
              "      background-color: #E2EBFA;\n",
              "      box-shadow: 0px 1px 2px rgba(60, 64, 67, 0.3), 0px 1px 3px 1px rgba(60, 64, 67, 0.15);\n",
              "      fill: #174EA6;\n",
              "    }\n",
              "\n",
              "    [theme=dark] .colab-df-convert {\n",
              "      background-color: #3B4455;\n",
              "      fill: #D2E3FC;\n",
              "    }\n",
              "\n",
              "    [theme=dark] .colab-df-convert:hover {\n",
              "      background-color: #434B5C;\n",
              "      box-shadow: 0px 1px 3px 1px rgba(0, 0, 0, 0.15);\n",
              "      filter: drop-shadow(0px 1px 2px rgba(0, 0, 0, 0.3));\n",
              "      fill: #FFFFFF;\n",
              "    }\n",
              "  </style>\n",
              "\n",
              "      <script>\n",
              "        const buttonEl =\n",
              "          document.querySelector('#df-ab0df4cd-81c2-4b6d-9b41-3a25bdab8cdc button.colab-df-convert');\n",
              "        buttonEl.style.display =\n",
              "          google.colab.kernel.accessAllowed ? 'block' : 'none';\n",
              "\n",
              "        async function convertToInteractive(key) {\n",
              "          const element = document.querySelector('#df-ab0df4cd-81c2-4b6d-9b41-3a25bdab8cdc');\n",
              "          const dataTable =\n",
              "            await google.colab.kernel.invokeFunction('convertToInteractive',\n",
              "                                                     [key], {});\n",
              "          if (!dataTable) return;\n",
              "\n",
              "          const docLinkHtml = 'Like what you see? Visit the ' +\n",
              "            '<a target=\"_blank\" href=https://colab.research.google.com/notebooks/data_table.ipynb>data table notebook</a>'\n",
              "            + ' to learn more about interactive tables.';\n",
              "          element.innerHTML = '';\n",
              "          dataTable['output_type'] = 'display_data';\n",
              "          await google.colab.output.renderOutput(dataTable, element);\n",
              "          const docLink = document.createElement('div');\n",
              "          docLink.innerHTML = docLinkHtml;\n",
              "          element.appendChild(docLink);\n",
              "        }\n",
              "      </script>\n",
              "    </div>\n",
              "  </div>\n",
              "  "
            ],
            "text/plain": [
              "   YearsExperience   Salary\n",
              "0              1.1  39343.0\n",
              "1              1.3  46205.0\n",
              "2              1.5  37731.0\n",
              "3              2.0  43525.0\n",
              "4              2.2  39891.0"
            ]
          },
          "metadata": {},
          "execution_count": 2
        }
      ]
    },
    {
      "cell_type": "markdown",
      "source": [
        "## Visualize the data\n"
      ],
      "metadata": {
        "id": "zDbHSQ8zO39F"
      }
    },
    {
      "cell_type": "markdown",
      "source": [
        "To gain an understanding of our datas, we should visualize the data first.\n",
        "\n",
        "We want to understand the relationship between years experience and salary whether it's linear or not because that is an underlying assumption of simple regression.\n",
        "\n",
        "We create a scatterplot to visualize the relationsship between two varible:"
      ],
      "metadata": {
        "id": "VzPh1w2jPGkh"
      }
    },
    {
      "cell_type": "code",
      "source": [
        "import matplotlib.pyplot as plt\n",
        "plt.figure(figsize=(10,6))\n",
        "plt.scatter(x= 'YearsExperience', y='Salary', data=df, marker='*',color='red')\n",
        "plt.title('YearsExperience vs Salary')\n",
        "plt.xlabel('Salary')\n",
        "plt.ylabel('YearsExperience')\n",
        "plt.show()"
      ],
      "metadata": {
        "id": "bcVWc59COxnl"
      },
      "execution_count": 2,
      "outputs": []
    },
    {
      "cell_type": "markdown",
      "source": [
        "From the plot we can see that the relationship does appear to be linear. As experience increases, salary tends to increase in a linear fashion.\n",
        "\n",
        "Next, we can create a boxplot to visualize the distribution of salary and check for outliers.\n",
        "\n",
        "We also can plot the histogram to understand the distribution"
      ],
      "metadata": {
        "id": "n_1w8KZyZJVI"
      }
    },
    {
      "cell_type": "code",
      "source": [
        "#boxplot of salary \n",
        "df.boxplot(column=['Salary'])"
      ],
      "metadata": {
        "colab": {
          "base_uri": "https://localhost:8080/",
          "height": 279
        },
        "id": "_kMA0MJRZBA7",
        "outputId": "e8fea9d0-4103-4ee2-edeb-d571d22632d7"
      },
      "execution_count": 3,
      "outputs": [
        {
          "output_type": "execute_result",
          "data": {
            "text/plain": [
              "<matplotlib.axes._subplots.AxesSubplot at 0x7f5df4e66fd0>"
            ]
          },
          "metadata": {},
          "execution_count": 3
        },
        {
          "output_type": "display_data",
          "data": {
            "image/png": "[encoded data removed]",
            "text/plain": [
              "<Figure size 432x288 with 1 Axes>"
            ]
          },
          "metadata": {
            "needs_background": "light"
          }
        }
      ]
    },
    {
      "cell_type": "markdown",
      "source": [
        "There are no outlier in our dataset"
      ],
      "metadata": {
        "id": "z8Ke1WRUZRF4"
      }
    },
    {
      "cell_type": "code",
      "source": [
        "sns.distplot(df['Salary'], \n",
        "             hist=True,\n",
        "             kde=True, \n",
        "             bins=30, color = 'darkblue', \n",
        "             )\n",
        "plt.show()"
      ],
      "metadata": {
        "colab": {
          "base_uri": "https://localhost:8080/",
          "height": 344
        },
        "id": "o3AmgWcZZMVJ",
        "outputId": "5ac79430-fa6a-4e0d-e481-9d12f3c44952"
      },
      "execution_count": 4,
      "outputs": [
        {
          "output_type": "stream",
          "name": "stderr",
          "text": [
            "/usr/local/lib/python3.7/dist-packages/seaborn/distributions.py:2619: FutureWarning: `distplot` is a deprecated function and will be removed in a future version. Please adapt your code to use either `displot` (a figure-level function with similar flexibility) or `histplot` (an axes-level function for histograms).\n",
            "  warnings.warn(msg, FutureWarning)\n"
          ]
        },
        {
          "output_type": "display_data",
          "data": {
            "image/png": "[encoded data removed]",
            "text/plain": [
              "<Figure size 432x288 with 1 Axes>"
            ]
          },
          "metadata": {
            "needs_background": "light"
          }
        }
      ]
    },
    {
      "cell_type": "markdown",
      "source": [
        "### PERFORM SIMPLE LINEAR REGRESSION"
      ],
      "metadata": {
        "id": "chFEh-u8ZZYd"
      }
    },
    {
      "cell_type": "code",
      "source": [
        "# import statsmodel library :\n",
        "import statsmodels.api as sm\n",
        "# define response variable: \n",
        "y=df['Salary']\n",
        "#define explanatory variale:\n",
        "x= df['YearsExperience']\n",
        "# add constant to predictor variables\n",
        "x=sm.add_constant(x)\n",
        "#fit linear regression model\n",
        "model= sm.OLS(y,x).fit()\n",
        "#view model summary\n",
        "print(model.summary())"
      ],
      "metadata": {
        "colab": {
          "base_uri": "https://localhost:8080/"
        },
        "id": "o5XqagqXZV9J",
        "outputId": "f6338d27-57ec-463d-e776-a3d0d5ca5715"
      },
      "execution_count": 5,
      "outputs": [
        {
          "output_type": "stream",
          "name": "stderr",
          "text": [
            "/usr/local/lib/python3.7/dist-packages/statsmodels/tools/_testing.py:19: FutureWarning: pandas.util.testing is deprecated. Use the functions in the public API at pandas.testing instead.\n",
            "  import pandas.util.testing as tm\n"
          ]
        },
        {
          "output_type": "stream",
          "name": "stdout",
          "text": [
            "                            OLS Regression Results                            \n",
            "==============================================================================\n",
            "Dep. Variable:                 Salary   R-squared:                       0.957\n",
            "Model:                            OLS   Adj. R-squared:                  0.955\n",
            "Method:                 Least Squares   F-statistic:                     622.5\n",
            "Date:                Wed, 16 Feb 2022   Prob (F-statistic):           1.14e-20\n",
            "Time:                        11:58:30   Log-Likelihood:                -301.44\n",
            "No. Observations:                  30   AIC:                             606.9\n",
            "Df Residuals:                      28   BIC:                             609.7\n",
            "Df Model:                           1                                         \n",
            "Covariance Type:            nonrobust                                         \n",
            "===================================================================================\n",
            "                      coef    std err          t      P>|t|      [0.025      0.975]\n",
            "-----------------------------------------------------------------------------------\n",
            "const            2.579e+04   2273.053     11.347      0.000    2.11e+04    3.04e+04\n",
            "YearsExperience  9449.9623    378.755     24.950      0.000    8674.119    1.02e+04\n",
            "==============================================================================\n",
            "Omnibus:                        2.140   Durbin-Watson:                   1.648\n",
            "Prob(Omnibus):                  0.343   Jarque-Bera (JB):                1.569\n",
            "Skew:                           0.363   Prob(JB):                        0.456\n",
            "Kurtosis:                       2.147   Cond. No.                         13.2\n",
            "==============================================================================\n",
            "\n",
            "Warnings:\n",
            "[1] Standard Errors assume that the covariance matrix of the errors is correctly specified.\n"
          ]
        },
        {
          "output_type": "stream",
          "name": "stderr",
          "text": [
            "/usr/local/lib/python3.7/dist-packages/statsmodels/tsa/tsatools.py:117: FutureWarning: In a future version of pandas all arguments of concat except for the argument 'objs' will be keyword-only\n",
            "  x = pd.concat(x[::order], 1)\n"
          ]
        }
      ]
    },
    {
      "cell_type": "markdown",
      "source": [
        "### INTERPRET THE RESULT"
      ],
      "metadata": {
        "id": "l3r0rgg2ZjVV"
      }
    },
    {
      "cell_type": "markdown",
      "source": [
        "From the model summary we can see that the fitted regression equation is:\n",
        "\n",
        "Salary = 25790 + 9449.96*(YearsExperiance)\n",
        "\n",
        "Each additional Years Experiance is associated with an average increase in annual salary of $9449.96.\n",
        "\n",
        "The intercept value of 25790 tells us the average expected anual salary for an employee may receive\n",
        "\n",
        "How to interpret the rest of the model summary:\n",
        "\n",
        "P>|t|: p-value for YearsExperiance (0.000) is significantly less than .05, we can say that there is a statistically significant association between YearsExperiance and Salary.\n",
        "\n",
        "R-squared: In general, the larger the R-squared value of a regression model the better the explanatory variables are able to predict the value of the response variable. In this case, 95.7% of the variation in scores can be explained by hours studied.\n",
        "\n",
        "F-statistic & p-value: The F-statistic (622.5) and the corresponding p-value (1.14e-20) tell us the overall significance of the regression model Since the p-value in this example is less than .05, our model is statistically significant."
      ],
      "metadata": {
        "id": "98qxj21CZoM6"
      }
    },
    {
      "cell_type": "markdown",
      "source": [
        "RESIDUAL PLOT"
      ],
      "metadata": {
        "id": "kyw6ctGgaEXK"
      }
    },
    {
      "cell_type": "markdown",
      "source": [
        "One of the key assumptions of linear regression is that the residuals of a regression model are roughly normally distributed and are homoscedastic.\n",
        "\n",
        "To verify that thE assumptions IS met, we can create the following residual plots:\n",
        "\n",
        "Residual vs. fitted values plot: test homoscedastic\n",
        "\n",
        "Q-Q plot: test the normal distribution"
      ],
      "metadata": {
        "id": "7IqKt4CCaI8a"
      }
    },
    {
      "cell_type": "code",
      "source": [
        "#Q-Q plot:\n",
        "res = model.resid\n",
        "fig = sm.qqplot(res, fit=True, line=\"45\")\n",
        "plt.show() "
      ],
      "metadata": {
        "colab": {
          "base_uri": "https://localhost:8080/",
          "height": 279
        },
        "id": "McBzm1AhZeqG",
        "outputId": "51ee302c-f0dd-4871-915d-1a93f6a6e50c"
      },
      "execution_count": 6,
      "outputs": [
        {
          "output_type": "display_data",
          "data": {
            "image/png": "[encoded data removed]",
            "text/plain": [
              "<Figure size 432x288 with 1 Axes>"
            ]
          },
          "metadata": {
            "needs_background": "light"
          }
        }
      ]
    },
    {
      "cell_type": "markdown",
      "source": [
        "We can see in our Q-Q plot above that the data values tend to closely follow the 45-degree, which means the data is likely normally distributed.\n",
        "\n",
        "Our model is not homogeneous and is normally distributed. Thus, the output from our model is reliable!\n",
        "\n"
      ],
      "metadata": {
        "id": "TExqjgNfaQcD"
      }
    },
    {
      "cell_type": "markdown",
      "source": [
        "### MODEL SAVE"
      ],
      "metadata": {
        "id": "pZKnfqJ9bM7H"
      }
    },
    {
      "cell_type": "code",
      "source": [
        "model.save(\"linear_regression.pickle\")"
      ],
      "metadata": {
        "id": "mnmHvdy_aLwF"
      },
      "execution_count": 7,
      "outputs": []
    },
    {
      "cell_type": "code",
      "source": [
        ""
      ],
      "metadata": {
        "id": "rERQ9dOxbVbs"
      },
      "execution_count": null,
      "outputs": []
    }
  ]
}